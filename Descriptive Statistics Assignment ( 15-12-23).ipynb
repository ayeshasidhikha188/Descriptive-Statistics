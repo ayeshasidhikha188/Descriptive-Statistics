{
 "cells": [
  {
   "cell_type": "code",
   "execution_count": 1,
   "id": "167707f3",
   "metadata": {},
   "outputs": [],
   "source": [
    "import numpy as np "
   ]
  },
  {
   "cell_type": "code",
   "execution_count": 3,
   "id": "feb69ac8",
   "metadata": {},
   "outputs": [
    {
     "data": {
      "text/plain": [
       "array([[ 0., 25., 40.],\n",
       "       [ 1., 30., 35.],\n",
       "       [ 2., 28., 38.],\n",
       "       [ 3., 32., 41.],\n",
       "       [ 4., 26., 37.],\n",
       "       [ 5., 29., 36.],\n",
       "       [ 6., 27., 39.],\n",
       "       [ 7., 33., 42.],\n",
       "       [ 8., 31., 38.],\n",
       "       [ 9., 28., 37.],\n",
       "       [10., 30., 40.],\n",
       "       [11., 29., 36.]])"
      ]
     },
     "execution_count": 3,
     "metadata": {},
     "output_type": "execute_result"
    }
   ],
   "source": [
    "g=np.genfromtxt(r\"C:\\Users\\mdimr\\Downloads\\Sample_data.csv\",delimiter=',',skip_header=1)\n",
    "g"
   ]
  },
  {
   "cell_type": "markdown",
   "id": "819d035a",
   "metadata": {},
   "source": [
    "# Measures of Central Tendency:\n",
    "\n",
    "## 1.  Calculate the mean sales for Product A and Product B. Compare the average monthly sales for the two products and discuss any observed trends.\n"
   ]
  },
  {
   "cell_type": "code",
   "execution_count": 5,
   "id": "bf6224d2",
   "metadata": {},
   "outputs": [
    {
     "data": {
      "text/plain": [
       "array([25., 30., 28., 32., 26., 29., 27., 33., 31., 28., 30., 29.])"
      ]
     },
     "execution_count": 5,
     "metadata": {},
     "output_type": "execute_result"
    }
   ],
   "source": [
    "product_A=g[:,1]\n",
    "product_A"
   ]
  },
  {
   "cell_type": "code",
   "execution_count": 6,
   "id": "b655c252",
   "metadata": {},
   "outputs": [
    {
     "data": {
      "text/plain": [
       "array([40., 35., 38., 41., 37., 36., 39., 42., 38., 37., 40., 36.])"
      ]
     },
     "execution_count": 6,
     "metadata": {},
     "output_type": "execute_result"
    }
   ],
   "source": [
    "product_B=g[:,2]\n",
    "product_B"
   ]
  },
  {
   "cell_type": "code",
   "execution_count": 8,
   "id": "6b62fd9c",
   "metadata": {},
   "outputs": [
    {
     "data": {
      "text/plain": [
       "29.0"
      ]
     },
     "execution_count": 8,
     "metadata": {},
     "output_type": "execute_result"
    }
   ],
   "source": [
    "x=np.mean(product_A)\n",
    "x"
   ]
  },
  {
   "cell_type": "code",
   "execution_count": 9,
   "id": "5076bbba",
   "metadata": {},
   "outputs": [
    {
     "data": {
      "text/plain": [
       "38.25"
      ]
     },
     "execution_count": 9,
     "metadata": {},
     "output_type": "execute_result"
    }
   ],
   "source": [
    "y=np.mean(product_B)\n",
    "y"
   ]
  },
  {
   "cell_type": "code",
   "execution_count": 29,
   "id": "84fb7f30",
   "metadata": {},
   "outputs": [
    {
     "name": "stdout",
     "output_type": "stream",
     "text": [
      "29.0 38.0\n"
     ]
    }
   ],
   "source": [
    "print(x,y)"
   ]
  },
  {
   "cell_type": "markdown",
   "id": "ab95beea",
   "metadata": {},
   "source": [
    "*  Average monthly sales of product A  is 29.0 and product B  is 38.0\n",
    "    * 1. sales of product A is lower than product B \n",
    "    * 2. The sales of product B is higher over months  \n",
    "    * Hence product B perform better sales than product A"
   ]
  },
  {
   "cell_type": "markdown",
   "id": "264e88d0",
   "metadata": {},
   "source": [
    "## 2. Find the median sales for each product and discuss how it reflects the central tendency of the sales distribution.\n"
   ]
  },
  {
   "cell_type": "code",
   "execution_count": 15,
   "id": "9f386030",
   "metadata": {},
   "outputs": [
    {
     "data": {
      "text/plain": [
       "29.0"
      ]
     },
     "execution_count": 15,
     "metadata": {},
     "output_type": "execute_result"
    }
   ],
   "source": [
    "x=np.median(product_A)\n",
    "x"
   ]
  },
  {
   "cell_type": "markdown",
   "id": "2bdacf4f",
   "metadata": {},
   "source": [
    "*  median of product A is middle value it indicates that below median sales are low and above medium sales are high"
   ]
  },
  {
   "cell_type": "code",
   "execution_count": 97,
   "id": "86e5cd65",
   "metadata": {},
   "outputs": [
    {
     "data": {
      "text/plain": [
       "38.0"
      ]
     },
     "execution_count": 97,
     "metadata": {},
     "output_type": "execute_result"
    }
   ],
   "source": [
    "y=np.median(product_B)\n",
    "y"
   ]
  },
  {
   "cell_type": "markdown",
   "id": "db6bf7b2",
   "metadata": {},
   "source": [
    "*  median of product B is middle value it indicates that below median sales are low and above medium sales are high"
   ]
  },
  {
   "cell_type": "markdown",
   "id": "15970685",
   "metadata": {},
   "source": [
    "* median shows a clear middle point in the sales data for both products "
   ]
  },
  {
   "cell_type": "markdown",
   "id": "b845b371",
   "metadata": {},
   "source": [
    "## 3. Identify the mode of the sales data for both Product A and Product B. Discuss the significance of the mode in the context of these products.\n",
    "#### Mode of product A"
   ]
  },
  {
   "cell_type": "code",
   "execution_count": 23,
   "id": "8a5084f0",
   "metadata": {},
   "outputs": [],
   "source": [
    "import statistics"
   ]
  },
  {
   "cell_type": "code",
   "execution_count": 24,
   "id": "d874c8fc",
   "metadata": {},
   "outputs": [
    {
     "data": {
      "text/plain": [
       "30.0"
      ]
     },
     "execution_count": 24,
     "metadata": {},
     "output_type": "execute_result"
    }
   ],
   "source": [
    "statistics.mode(product_A)"
   ]
  },
  {
   "cell_type": "markdown",
   "id": "93ad3721",
   "metadata": {},
   "source": [
    "#### Mode of product B"
   ]
  },
  {
   "cell_type": "code",
   "execution_count": 25,
   "id": "061bd8e6",
   "metadata": {},
   "outputs": [
    {
     "data": {
      "text/plain": [
       "40.0"
      ]
     },
     "execution_count": 25,
     "metadata": {},
     "output_type": "execute_result"
    }
   ],
   "source": [
    "statistics.mode(product_B)"
   ]
  },
  {
   "cell_type": "markdown",
   "id": "5d1d38a3",
   "metadata": {},
   "source": [
    "* The mode represents the most frequent sales value in the dataset. \n",
    "* For Product A, having a mode of 30 means that 30 is the sales figure that occurs most often. \n",
    "* Similarly, for Product B, a mode of 40 indicates that 40 is the most common sales value.\n",
    "* Products with a mode close to the mean and median suggest a relatively symmetrical distribution\n",
    "* differences between the mode and other measures may indicate skewness."
   ]
  },
  {
   "cell_type": "markdown",
   "id": "6816b5f3",
   "metadata": {},
   "source": [
    "## 4. Calculate the weighted mean of the sales data, assuming each month has an equal weight. Discuss any implications of using weighted mean in this context."
   ]
  },
  {
   "cell_type": "markdown",
   "id": "c76302ed",
   "metadata": {},
   "source": [
    "##### weighted mean is each month has an equal weight "
   ]
  },
  {
   "cell_type": "code",
   "execution_count": 36,
   "id": "f1878644",
   "metadata": {},
   "outputs": [
    {
     "data": {
      "text/plain": [
       "12"
      ]
     },
     "execution_count": 36,
     "metadata": {},
     "output_type": "execute_result"
    }
   ],
   "source": [
    "len(product_A)"
   ]
  },
  {
   "cell_type": "code",
   "execution_count": 40,
   "id": "32366c39",
   "metadata": {},
   "outputs": [
    {
     "data": {
      "text/plain": [
       "array([1., 1., 1., 1., 1., 1., 1., 1., 1., 1., 1., 1.])"
      ]
     },
     "execution_count": 40,
     "metadata": {},
     "output_type": "execute_result"
    }
   ],
   "source": [
    "weight=np.ones(12)\n",
    "weight"
   ]
  },
  {
   "cell_type": "markdown",
   "id": "7cfc7735",
   "metadata": {},
   "source": [
    "### weighted mean of product A"
   ]
  },
  {
   "cell_type": "code",
   "execution_count": 45,
   "id": "208668af",
   "metadata": {},
   "outputs": [
    {
     "data": {
      "text/plain": [
       "array([25., 30., 28., 32., 26., 29., 27., 33., 31., 28., 30., 29.])"
      ]
     },
     "execution_count": 45,
     "metadata": {},
     "output_type": "execute_result"
    }
   ],
   "source": [
    "weighted_A=weight * product_A\n",
    "weighted_A"
   ]
  },
  {
   "cell_type": "code",
   "execution_count": 47,
   "id": "db4fc741",
   "metadata": {},
   "outputs": [
    {
     "data": {
      "text/plain": [
       "29.0"
      ]
     },
     "execution_count": 47,
     "metadata": {},
     "output_type": "execute_result"
    }
   ],
   "source": [
    "np.mean(weighted_A)"
   ]
  },
  {
   "cell_type": "markdown",
   "id": "835ea27c",
   "metadata": {},
   "source": [
    "### weighted mean of product B"
   ]
  },
  {
   "cell_type": "code",
   "execution_count": 46,
   "id": "3b1eed22",
   "metadata": {},
   "outputs": [
    {
     "data": {
      "text/plain": [
       "array([40., 35., 38., 41., 37., 36., 39., 42., 38., 37., 40., 36.])"
      ]
     },
     "execution_count": 46,
     "metadata": {},
     "output_type": "execute_result"
    }
   ],
   "source": [
    "weighted_B=weight * product_B\n",
    "weighted_B"
   ]
  },
  {
   "cell_type": "code",
   "execution_count": 48,
   "id": "758bc45d",
   "metadata": {},
   "outputs": [
    {
     "data": {
      "text/plain": [
       "38.25"
      ]
     },
     "execution_count": 48,
     "metadata": {},
     "output_type": "execute_result"
    }
   ],
   "source": [
    "np.mean(weighted_B)"
   ]
  },
  {
   "cell_type": "markdown",
   "id": "22179cbf",
   "metadata": {},
   "source": [
    "# Measures of Dispersion:\n",
    "## 1. Compute the range of monthly sales for both Product A and Product B. Discuss how the range provides insights into the variability of sales.\n",
    "#### range of product A"
   ]
  },
  {
   "cell_type": "code",
   "execution_count": 49,
   "id": "50bd0fd9",
   "metadata": {},
   "outputs": [
    {
     "data": {
      "text/plain": [
       "array([25., 30., 28., 32., 26., 29., 27., 33., 31., 28., 30., 29.])"
      ]
     },
     "execution_count": 49,
     "metadata": {},
     "output_type": "execute_result"
    }
   ],
   "source": [
    "product_A"
   ]
  },
  {
   "cell_type": "code",
   "execution_count": 66,
   "id": "ba446c37",
   "metadata": {},
   "outputs": [
    {
     "data": {
      "text/plain": [
       "8.0"
      ]
     },
     "execution_count": 66,
     "metadata": {},
     "output_type": "execute_result"
    }
   ],
   "source": [
    "range_A=np.max(product_A)-np.min(product_A)\n",
    "range_A"
   ]
  },
  {
   "cell_type": "markdown",
   "id": "eb983a1f",
   "metadata": {},
   "source": [
    "* range_A suggests that monthly sales varied by upto 8 units over observed period "
   ]
  },
  {
   "cell_type": "markdown",
   "id": "a99e2bcd",
   "metadata": {},
   "source": [
    "#### range of product B"
   ]
  },
  {
   "cell_type": "code",
   "execution_count": 62,
   "id": "9fbd1313",
   "metadata": {},
   "outputs": [
    {
     "data": {
      "text/plain": [
       "array([40., 35., 38., 41., 37., 36., 39., 42., 38., 37., 40., 36.])"
      ]
     },
     "execution_count": 62,
     "metadata": {},
     "output_type": "execute_result"
    }
   ],
   "source": [
    "product_B"
   ]
  },
  {
   "cell_type": "code",
   "execution_count": 65,
   "id": "db6022f3",
   "metadata": {},
   "outputs": [
    {
     "data": {
      "text/plain": [
       "7.0"
      ]
     },
     "execution_count": 65,
     "metadata": {},
     "output_type": "execute_result"
    }
   ],
   "source": [
    "range_B=np.max(product_B)-np.min(product_B)\n",
    "range_B"
   ]
  },
  {
   "cell_type": "markdown",
   "id": "92185044",
   "metadata": {},
   "source": [
    "* range B suggests that monthly sales varied by upto 7 units over observed period "
   ]
  },
  {
   "cell_type": "markdown",
   "id": "7ee32104",
   "metadata": {},
   "source": [
    "* product B has larger range representing more variability in monthly sales compared to product A"
   ]
  },
  {
   "cell_type": "markdown",
   "id": "7c9b9ec9",
   "metadata": {},
   "source": [
    "## 2. Calculate the variance of the sales data for both products. Discuss what the variance reveals about the spread of sales for each product.\n",
    "####  variance for  product A"
   ]
  },
  {
   "cell_type": "code",
   "execution_count": 71,
   "id": "b55630c3",
   "metadata": {},
   "outputs": [
    {
     "data": {
      "text/plain": [
       "5.166666666666667"
      ]
     },
     "execution_count": 71,
     "metadata": {},
     "output_type": "execute_result"
    }
   ],
   "source": [
    "var_A=np.var(product_A)\n",
    "var_A"
   ]
  },
  {
   "cell_type": "markdown",
   "id": "536e381b",
   "metadata": {},
   "source": [
    "####  variance for product B"
   ]
  },
  {
   "cell_type": "code",
   "execution_count": 72,
   "id": "37f98632",
   "metadata": {},
   "outputs": [
    {
     "data": {
      "text/plain": [
       "4.354166666666667"
      ]
     },
     "execution_count": 72,
     "metadata": {},
     "output_type": "execute_result"
    }
   ],
   "source": [
    "var_B=np.var(product_B)\n",
    "var_B"
   ]
  },
  {
   "cell_type": "markdown",
   "id": "6b8bd5a7",
   "metadata": {},
   "source": [
    "* A higher variance indicates that the sales figures for Product A are more spread out from the mean compared to Product B\n",
    "* A lower variance, as seen in Product B, implies that its sales data points are closer to the mean. This suggests that Product B has a more consistent and stable sales performance compared to Product A. "
   ]
  },
  {
   "cell_type": "markdown",
   "id": "be76ced9",
   "metadata": {},
   "source": [
    "## 3. Determine the standard deviation of the sales for Product A and Product B. Discuss the significance of standard deviation in understanding the variability in sales.\n",
    "#### standard deviation for Product A"
   ]
  },
  {
   "cell_type": "code",
   "execution_count": 75,
   "id": "398832dd",
   "metadata": {},
   "outputs": [
    {
     "data": {
      "text/plain": [
       "2.273030282830976"
      ]
     },
     "execution_count": 75,
     "metadata": {},
     "output_type": "execute_result"
    }
   ],
   "source": [
    "StdVar_A=np.std(product_A)\n",
    "StdVar_A"
   ]
  },
  {
   "cell_type": "markdown",
   "id": "ad4f0cbd",
   "metadata": {},
   "source": [
    "#### standard deviation for Product B"
   ]
  },
  {
   "cell_type": "code",
   "execution_count": 77,
   "id": "0ebd7acf",
   "metadata": {},
   "outputs": [
    {
     "data": {
      "text/plain": [
       "2.0866640042581523"
      ]
     },
     "execution_count": 77,
     "metadata": {},
     "output_type": "execute_result"
    }
   ],
   "source": [
    "StdVar_B=np.std(product_B)\n",
    "StdVar_B"
   ]
  },
  {
   "cell_type": "markdown",
   "id": "75546424",
   "metadata": {},
   "source": [
    "* standard deviation is a measure of the amount of variation or dispersion in a set of values \n",
    "* it is the squareroot of  variance \n",
    "* product  B is with lower standard deviation , this indicates more stable and consistent sales performence with less variabilty\n",
    "* product A is with Higher standard deviation suggests greater variability in monthly sales, this indicates sales performence with higher variabilty unstable and inconsistent of sales "
   ]
  },
  {
   "cell_type": "markdown",
   "id": "96a47c00",
   "metadata": {},
   "source": [
    "# Relative Measures of Dispersion:\n",
    "## 1. Calculate the coefficient of variation for the sales data of Product A. Discuss how this relative measure of dispersion helps in comparing the variability of products with different average sales.\n",
    "#### Coefficient of Variation of product A"
   ]
  },
  {
   "cell_type": "markdown",
   "id": "0c2a4c5b",
   "metadata": {},
   "source": [
    "* The coefficient of variation is a relative measure of dispersion that expresses the standard deviation as a percentage of the mean.\n",
    "* higher coefficient of variation indicates a greater relative variability in sales compared to the mean."
   ]
  },
  {
   "cell_type": "code",
   "execution_count": 78,
   "id": "0e26b8f8",
   "metadata": {},
   "outputs": [
    {
     "data": {
      "text/plain": [
       "7.838035458037848"
      ]
     },
     "execution_count": 78,
     "metadata": {},
     "output_type": "execute_result"
    }
   ],
   "source": [
    "y=np.mean(product_A)\n",
    "StdVar_A=np.std(product_A)\n",
    "coeff_Var_A=(StdVar_A/x)*100\n",
    "coeff_Var_A"
   ]
  },
  {
   "cell_type": "markdown",
   "id": "238033d9",
   "metadata": {},
   "source": [
    "* product A mean is 29.0  and product A coefficient of variation is 7.838035458037848 \n",
    "* A product with a low CV has more stable sales, while a product with a high CV has more fluctuating sales.\n",
    "* A lower CV indicates a less relative variability compared to the mean,  hence product A has more stable sale values "
   ]
  },
  {
   "cell_type": "markdown",
   "id": "3782e1ca",
   "metadata": {},
   "source": [
    "## 2. Compute the relative range for Product B. Discuss how the relative range accounts for the scale of the sales data.\n",
    "#### Relative Range  of product B"
   ]
  },
  {
   "cell_type": "code",
   "execution_count": 94,
   "id": "6e70490f",
   "metadata": {},
   "outputs": [
    {
     "data": {
      "text/plain": [
       "18.30065359477124"
      ]
     },
     "execution_count": 94,
     "metadata": {},
     "output_type": "execute_result"
    }
   ],
   "source": [
    "range_B=np.max(product_B)-np.min(product_B)\n",
    "y=np.mean(product_B)\n",
    "rel_range_B=(range_B/y)*100\n",
    "rel_range_B"
   ]
  },
  {
   "cell_type": "markdown",
   "id": "75a1500d",
   "metadata": {},
   "source": [
    "* product B is mean is 38.25 and relative range of product B = 18.30065359477124 \n",
    "* A product with a high mean sales but a low relative range has more stable sales than a product with a low mean sales but a high relative range.\n",
    "* The relative range of product B  can help in  comparing  the variability of products with different scales of sales.\n",
    "* Here  product-B is with a high mean sales but a low relative range  so, product B has more stable sales"
   ]
  },
  {
   "cell_type": "markdown",
   "id": "e226f421",
   "metadata": {},
   "source": [
    "## 3. Determine the relative standard deviation for Product A. Interpret the result and discuss its implications for understanding the variability relative to the mean.\n",
    "#### Relative standard deviation for product A"
   ]
  },
  {
   "cell_type": "code",
   "execution_count": 96,
   "id": "18602def",
   "metadata": {},
   "outputs": [
    {
     "data": {
      "text/plain": [
       "7.838035458037848"
      ]
     },
     "execution_count": 96,
     "metadata": {},
     "output_type": "execute_result"
    }
   ],
   "source": [
    "x=np.mean(product_A)\n",
    "StdVar_A=np.std(product_A)\n",
    "rel_std_A=(StdVar_A/x)*100\n",
    "rel_std_A"
   ]
  },
  {
   "cell_type": "markdown",
   "id": "02f3370f",
   "metadata": {},
   "source": [
    "* Product A mean is 29.0 and relative standard deviation of product A is  7.838035458037848\n",
    "* Product A is  with low CV values have less relative variability around their mean, sales are stable consistent "
   ]
  }
 ],
 "metadata": {
  "kernelspec": {
   "display_name": "Python 3 (ipykernel)",
   "language": "python",
   "name": "python3"
  },
  "language_info": {
   "codemirror_mode": {
    "name": "ipython",
    "version": 3
   },
   "file_extension": ".py",
   "mimetype": "text/x-python",
   "name": "python",
   "nbconvert_exporter": "python",
   "pygments_lexer": "ipython3",
   "version": "3.11.5"
  }
 },
 "nbformat": 4,
 "nbformat_minor": 5
}
